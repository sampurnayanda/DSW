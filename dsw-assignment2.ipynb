{
 "cells": [
  {
   "cell_type": "code",
   "execution_count": 3,
   "id": "00cd3d9a",
   "metadata": {},
   "outputs": [
    {
     "name": "stdout",
     "output_type": "stream",
     "text": [
      "Fail to reject the null hypothesis. The company's claim is correct.\n",
      "Sample Mean: 2.1399999999999997\n",
      "Sample Standard Deviation: 0.171269767715535\n",
      "t-Statistic: 0.7385489458759891\n",
      "p-Value: 0.47899685662438474\n",
      "Critical t-Value: 2.2621571627409915\n"
     ]
    }
   ],
   "source": [
    "import numpy as np \n",
    "from scipy.stats import t \n",
    "# Given data \n",
    "samples = np.array([1.9, 2.3, 2.1, 2.2, 1.9, 2.4, 2.1, 2.3, 2.2, 2.0]) \n",
    "sample_mean = np.mean(samples) \n",
    "sample_std = np.std(samples, ddof=1) \n",
    "# Use ddof=1 for sample standard deviation \n",
    "# Given values \n",
    "population_mean = 2.1 \n",
    "population_std = 0.17 \n",
    "significance_level = 0.05 \n",
    "n = len(samples) \n",
    "# Calculate t-statistic \n",
    "t_statistic = (sample_mean - population_mean) / (sample_std / np.sqrt(n)) \n",
    "# Calculate critical t-value \n",
    "df = n - 1 \n",
    "# Degrees of freedom \n",
    "critical_t_value = t.ppf(1 - significance_level/2, df) \n",
    "# Calculate p-value \n",
    "p_value = 2 * (1 - t.cdf(np.abs(t_statistic), df)) \n",
    "# Perform hypothesis testing \n",
    "if p_value < significance_level: \n",
    "    print(\"Reject the null hypothesis. The company's claim is incorrect.\") \n",
    "else: \n",
    "    print(\"Fail to reject the null hypothesis. The company's claim is correct.\")\n",
    "print(\"Sample Mean:\", sample_mean) \n",
    "print(\"Sample Standard Deviation:\", sample_std) \n",
    "print(\"t-Statistic:\", t_statistic) \n",
    "print(\"p-Value:\", p_value) \n",
    "print(\"Critical t-Value:\", critical_t_value)   "
   ]
  },
  {
   "cell_type": "code",
   "execution_count": 4,
   "id": "abffa8c9",
   "metadata": {},
   "outputs": [
    {
     "name": "stdout",
     "output_type": "stream",
     "text": [
      "The sample mean does not fall within the claimed mean +/- 2 standard deviations.\n"
     ]
    }
   ],
   "source": [
    "claimed_mean = 4.1 \n",
    "claimed_std = 0.1 \n",
    "# Check if the sample mean falls within the claimed mean +/- 2 standard deviations \n",
    "lower_bound = claimed_mean - 2 * claimed_std \n",
    "upper_bound = claimed_mean + 2 * claimed_std \n",
    "if sample_mean >= lower_bound and sample_mean <= upper_bound: \n",
    "    print(\"The sample mean falls within the claimed mean +/- 2 standard deviations.\") \n",
    "else: \n",
    "    print(\"The sample mean does not fall within the claimed mean +/- 2 standard deviations.\") "
   ]
  },
  {
   "cell_type": "code",
   "execution_count": 5,
   "id": "3cd2b76d",
   "metadata": {},
   "outputs": [
    {
     "name": "stdout",
     "output_type": "stream",
     "text": [
      "Mean: 3\n",
      "Median: 3\n",
      "Mode: 3\n",
      "All Modes: [3]\n"
     ]
    }
   ],
   "source": [
    "import statistics \n",
    "data = [1, 2, 3, 4, 5] \n",
    "mean = statistics.mean(data) \n",
    "print(\"Mean:\", mean)  \n",
    "import statistics \n",
    "data = [1, 2, 3, 4, 5] \n",
    "median = statistics.median(data) \n",
    "print(\"Median:\", median) \n",
    "import statistics \n",
    "import collections \n",
    "data = [1, 2, 2, 3, 3, 3, 4, 5] \n",
    "mode = statistics.mode(data) \n",
    "print(\"Mode:\", mode) \n",
    "# To find all modes \n",
    "mode_count = collections.Counter(data) \n",
    "modes = [k for k, v in mode_count.items() if v == max(mode_count.values())] \n",
    "print(\"All Modes:\", modes)"
   ]
  },
  {
   "cell_type": "code",
   "execution_count": 6,
   "id": "ebf807a7",
   "metadata": {},
   "outputs": [
    {
     "name": "stdout",
     "output_type": "stream",
     "text": [
      "Sample Variance: 2.5\n",
      "Sample Standard Deviation: 1.5811388300841898\n"
     ]
    }
   ],
   "source": [
    "import statistics \n",
    "data = [1, 2, 3, 4, 5] \n",
    "variance = statistics.variance(data) \n",
    "std_deviation = statistics.stdev(data) \n",
    "print(\"Sample Variance:\", variance) \n",
    "print(\"Sample Standard Deviation:\", std_deviation)"
   ]
  },
  {
   "cell_type": "code",
   "execution_count": 7,
   "id": "056a7d9f",
   "metadata": {},
   "outputs": [
    {
     "name": "stdout",
     "output_type": "stream",
     "text": [
      "Population Variance: 2.0\n",
      "Population Standard Deviation: 1.4142135623730951\n"
     ]
    }
   ],
   "source": [
    "import numpy as np \n",
    "data = [1, 2, 3, 4, 5] \n",
    "variance = np.var(data) \n",
    "std_deviation = np.std(data) \n",
    "print(\"Population Variance:\", variance) \n",
    "print(\"Population Standard Deviation:\", std_deviation) "
   ]
  },
  {
   "cell_type": "code",
   "execution_count": 8,
   "id": "fac6c916",
   "metadata": {},
   "outputs": [
    {
     "name": "stdout",
     "output_type": "stream",
     "text": [
      "Covariance between vector1 and vector2: -2.5\n"
     ]
    }
   ],
   "source": [
    "import numpy as np \n",
    "# Two vectors/lists \n",
    "vector1 = [1, 2, 3, 4, 5] \n",
    "vector2 = [5, 4, 3, 2, 1] \n",
    "# Calculate covariance \n",
    "covariance = np.cov(vector1, vector2)[0, 1] \n",
    "print(\"Covariance between vector1 and vector2:\", covariance)"
   ]
  },
  {
   "cell_type": "code",
   "execution_count": 9,
   "id": "a96280b2",
   "metadata": {},
   "outputs": [
    {
     "name": "stdout",
     "output_type": "stream",
     "text": [
      "Correlation between vector1 and vector2: -0.9999999999999999\n"
     ]
    }
   ],
   "source": [
    "import numpy as np \n",
    "# Two vectors/lists \n",
    "vector1 = [1, 2, 3, 4, 5] \n",
    "vector2 = [5, 4, 3, 2, 1] \n",
    "# Calculate correlation \n",
    "correlation = np.corrcoef(vector1, vector2)[0, 1] \n",
    "print(\"Correlation between vector1 and vector2:\", correlation)"
   ]
  },
  {
   "cell_type": "code",
   "execution_count": 10,
   "id": "7c6bc7c8",
   "metadata": {},
   "outputs": [
    {
     "data": {
      "image/png": "[encoded data removed]",
      "text/plain": [
       "<Figure size 640x480 with 1 Axes>"
      ]
     },
     "metadata": {},
     "output_type": "display_data"
    }
   ],
   "source": [
    "import numpy as np \n",
    "import matplotlib.pyplot as plt \n",
    "# Parameters for the population (binomial distribution) \n",
    "n = 10 \n",
    "# number of trials \n",
    "p = 0.5 \n",
    "# probability of success # Population size \n",
    "population_size = 10000 \n",
    "population = np.random.binomial(n, p, population_size) \n",
    "# Number of samples and sample size \n",
    "num_samples = 1000 \n",
    "sample_size = 30 \n",
    "# Generate random samples from the population and calculate sample means \n",
    "sample_means = [np.mean(np.random.choice(population, sample_size)) \n",
    "for _ in range(num_samples)] \n",
    "# Plot the distribution of sample means \n",
    "plt.hist(sample_means, bins=30, color='skyblue', edgecolor='black') \n",
    "plt.title('Distribution of Sample Means') \n",
    "plt.xlabel('Sample Mean') \n",
    "plt.ylabel('Frequency') \n",
    "plt.show()"
   ]
  },
  {
   "cell_type": "code",
   "execution_count": 12,
   "id": "94354c06",
   "metadata": {},
   "outputs": [
    {
     "name": "stdout",
     "output_type": "stream",
     "text": [
      "Enter the elements of the first 2x2 matrix:\n",
      "Enter element at position (1, 1): 1\n",
      "\n",
      "Enter the elements of the second 2x2 matrix:\n",
      "Enter element at position (1, 1): 2\n",
      "\n",
      "The sum of the two matrices is:\n",
      "[3, 0]\n",
      "[0, 0]\n"
     ]
    }
   ],
   "source": [
    "# Function to input a 2x2 matrix \n",
    "def input_matrix(): \n",
    "    matrix = [] \n",
    "    for i in range(2): \n",
    "        row = [] \n",
    "        for j in range(2): \n",
    "            element = int(input(f\"Enter element at position ({i+1}, {j+1}): \")) \n",
    "            row.append(element) \n",
    "            matrix.append(row) \n",
    "            return matrix \n",
    "        # Function to sum two 2x2 matrices \n",
    "def sum_matrices(matrix1, matrix2): \n",
    "    result = [[0, 0], [0, 0]] \n",
    "    for i in range(2): \n",
    "        for j in range(2): \n",
    "            result[i][j] = matrix1[i][j] + matrix2[i][j] \n",
    "            return result \n",
    "        # Input the first matrix \n",
    "print(\"Enter the elements of the first 2x2 matrix:\") \n",
    "matrix1 = input_matrix() \n",
    "# Input the second matrix \n",
    "print(\"\\nEnter the elements of the second 2x2 matrix:\") \n",
    "matrix2 = input_matrix() \n",
    "# Calculate the sum of the two matrices \n",
    "result = sum_matrices(matrix1, matrix2) \n",
    "# Display the result \n",
    "print(\"\\nThe sum of the two matrices is:\") \n",
    "for row in result: \n",
    "    print(row) "
   ]
  },
  {
   "cell_type": "code",
   "execution_count": 15,
   "id": "178861b1",
   "metadata": {},
   "outputs": [
    {
     "name": "stdout",
     "output_type": "stream",
     "text": [
      "The probability that an email flagged as spam is actually spam is: 0.2423469387755102\n"
     ]
    }
   ],
   "source": [
    "# Given probabilities \n",
    "P_A = 0.01 \n",
    "P_B_given_A = 0.95 \n",
    "P_B_given_not_A = 0.03 \n",
    "P_not_A = 1 - P_A \n",
    "# Calculate P(B) \n",
    "P_B = P_B_given_A * P_A + P_B_given_not_A * P_not_A \n",
    "# Calculate P(A|B) using Bayes' theorem \n",
    "P_A_given_B = (P_B_given_A * P_A) / P_B \n",
    "print(f\"The probability that an email flagged as spam is actually spam is: {P_A_given_B}\") "
   ]
  },
  {
   "cell_type": "code",
   "execution_count": 16,
   "id": "f45b206f",
   "metadata": {},
   "outputs": [
    {
     "name": "stdout",
     "output_type": "stream",
     "text": [
      "The probability that a person who tests positive actually has the disease is: 0.038164996144949885\n"
     ]
    }
   ],
   "source": [
    "# Given probabilities \n",
    "P_A = 1/500 \n",
    "P_B_given_A = 0.99 \n",
    "P_B_given_not_A = 0.05 \n",
    "P_not_A = 1 - P_A \n",
    "# Calculate P(B) \n",
    "P_B = P_B_given_A * P_A + P_B_given_not_A * P_not_A \n",
    "# Calculate P(A|B) using Bayes' theorem \n",
    "P_A_given_B = (P_B_given_A * P_A) / P_B \n",
    "print(f\"The probability that a person who tests positive actually has the disease is: {P_A_given_B}\") "
   ]
  },
  {
   "cell_type": "code",
   "execution_count": 17,
   "id": "6af95548",
   "metadata": {},
   "outputs": [
    {
     "name": "stdout",
     "output_type": "stream",
     "text": [
      "Enter the length of the vectors: 5\n",
      "Enter element 1 of vector 1: 2\n",
      "Enter element 2 of vector 1: 3\n",
      "Enter element 3 of vector 1: 4\n",
      "Enter element 4 of vector 1: 1\n",
      "Enter element 5 of vector 1: 5\n",
      "Enter element 1 of vector 2: 1\n",
      "Enter element 2 of vector 2: 2\n",
      "Enter element 3 of vector 2: 3\n",
      "Enter element 4 of vector 2: 4\n",
      "Enter element 5 of vector 2: 5\n",
      "Dot product of the two vectors is: 49.0\n",
      "Distance between the two vectors is: 3.4641016151377544\n",
      "Sum of the two vectors is: [3.0, 5.0, 7.0, 5.0, 10.0]\n"
     ]
    }
   ],
   "source": [
    "import math \n",
    "# Function to calculate the dot product of two vectors \n",
    "def dot_product(vector1, vector2): \n",
    "    return sum([x*y for x, y in zip(vector1, vector2)]) \n",
    "# Function to calculate the distance between two vectors \n",
    "def distance_vectors(vector1, vector2): \n",
    "    return math.sqrt(sum([(x - y)**2 \n",
    "for x, y in zip(vector1, vector2)])) \n",
    "# Function to calculate the sum of two vectors \n",
    "def sum_vectors(vector1, vector2): \n",
    "    return [x + y for x, y in zip(vector1, vector2)] \n",
    "# Function to normalize a vector \n",
    "def normalize_vector(vector): \n",
    "    norm = math.sqrt(sum([x**2 for x in vector])) \n",
    "    return [x / norm for x in vector] \n",
    "# Taking input from the user for the vectors \n",
    "n = int(input(\"Enter the length of the vectors: \")) \n",
    "vector1 = [float(input(f\"Enter element {i+1} of vector 1: \")) for i in range(n)] \n",
    "vector2 = [float(input(f\"Enter element {i+1} of vector 2: \")) for i in range(n)] \n",
    "# Calculate dot product \n",
    "dot_product_result = dot_product(vector1, vector2) \n",
    "print(f\"Dot product of the two vectors is: {dot_product_result}\") \n",
    "# Calculate distance \n",
    "distance = distance_vectors(vector1, vector2) \n",
    "print(f\"Distance between the two vectors is: {distance}\") \n",
    "# Calculate sum of vectors \n",
    "vector_sum = sum_vectors(vector1, vector2) \n",
    "print(f\"Sum of the two vectors is: {vector_sum}\") \n",
    "# Normalize a vector \n",
    "normalized_vector1 = normalize_vector(vector1)"
   ]
  },
  {
   "cell_type": "code",
   "execution_count": null,
   "id": "cef8e25d",
   "metadata": {},
   "outputs": [],
   "source": []
  }
 ],
 "metadata": {
  "kernelspec": {
   "display_name": "Python 3 (ipykernel)",
   "language": "python",
   "name": "python3"
  },
  "language_info": {
   "codemirror_mode": {
    "name": "ipython",
    "version": 3
   },
   "file_extension": ".py",
   "mimetype": "text/x-python",
   "name": "python",
   "nbconvert_exporter": "python",
   "pygments_lexer": "ipython3",
   "version": "3.11.5"
  }
 },
 "nbformat": 4,
 "nbformat_minor": 5
}
