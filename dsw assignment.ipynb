{
 "cells": [
  {
   "cell_type": "code",
   "execution_count": 1,
   "id": "dc80e3dc",
   "metadata": {},
   "outputs": [
    {
     "name": "stdout",
     "output_type": "stream",
     "text": [
      "Estimated parameters using normal equation method:\n",
      "[1. 1.]\n"
     ]
    }
   ],
   "source": [
    "import numpy as np \n",
    "def normal_equation(X, y): \n",
    "    X_transpose = np.transpose(X) \n",
    "    X_transpose_X = np.dot(X_transpose, X) \n",
    "    X_transpose_X_inv = np.linalg.inv(X_transpose_X) \n",
    "    X_transpose_y = np.dot(X_transpose, y) \n",
    "    theta = np.dot(X_transpose_X_inv, X_transpose_y) \n",
    "    return theta \n",
    "# Example usage \n",
    "X = np.array([[1, 2], [1, 3], [1, 4]]) \n",
    "# Design matrix with bias term \n",
    "y = np.array([3, 4, 5]) \n",
    "# Target values \n",
    "theta = normal_equation(X, y) \n",
    "print(\"Estimated parameters using normal equation method:\") \n",
    "print(theta)"
   ]
  },
  {
   "cell_type": "code",
   "execution_count": 4,
   "id": "1c312667",
   "metadata": {},
   "outputs": [
    {
     "name": "stdout",
     "output_type": "stream",
     "text": [
      "Linear Regression Model Coefficients:\n",
      "[1.0416198] 37.463442069741276\n",
      "\n",
      "Polynomial Regression Model Coefficients:\n",
      "[ 0.00000000e+00  1.57135372e+01 -3.66067751e-01 -2.86182579e-04] -103.8179600958095\n"
     ]
    }
   ],
   "source": [
    "import numpy as np \n",
    "from sklearn.linear_model import LinearRegression \n",
    "from sklearn.preprocessing import PolynomialFeatures \n",
    "# Data \n",
    "X = np.array([15, 23, 18, 23, 24, 22, 22, 19, 19, 16]).reshape(-1, 1) \n",
    "# Internal examination marks \n",
    "Y = np.array([49, 63, 58, 60, 58, 61, 60, 63, 60, 52]) \n",
    "# External examination marks \n",
    "# Linear regression model \n",
    "lin_reg = LinearRegression() \n",
    "lin_reg.fit(X, Y) \n",
    "# Polynomial regression model of degree 3 \n",
    "poly_features = PolynomialFeatures(degree=3) \n",
    "X_poly = poly_features.fit_transform(X) \n",
    "poly_reg = LinearRegression() \n",
    "poly_reg.fit(X_poly, Y) \n",
    "# Print coefficients for linear regression model \n",
    "print(\"Linear Regression Model Coefficients:\") \n",
    "print(lin_reg.coef_, lin_reg.intercept_) \n",
    "# Print coefficients for polynomial regression model \n",
    "print(\"\\nPolynomial Regression Model Coefficients:\") \n",
    "print(poly_reg.coef_, poly_reg.intercept_) "
   ]
  },
  {
   "cell_type": "code",
   "execution_count": 7,
   "id": "da698229",
   "metadata": {},
   "outputs": [
    {
     "name": "stdout",
     "output_type": "stream",
     "text": [
      "Coefficients: [ 1.168 23.662]\n"
     ]
    }
   ],
   "source": [
    "import numpy as np \n",
    "def mean_squared_error(y_true, y_pred): \n",
    "    return np.mean((y_true - y_pred)**2) \n",
    "def gradient_descent(X, y, learning_rate=0.01, n_iterations=1000): \n",
    "    n_samples, n_features = X.shape \n",
    "    weights = np.zeros(n_features) \n",
    "    for _ in range(n_iterations): \n",
    "        y_pred = np.dot(X, weights) \n",
    "        error = y_pred - y \n",
    "        gradient = 2/n_samples * np.dot(X.T, error) \n",
    "        weights -= learning_rate * gradient \n",
    "        return weights \n",
    "# Data \n",
    "X = np.array([[15], [23], [18], [23], [24], [22], [22], [19], [19], [16]]) \n",
    "y = np.array([49, 63, 58, 60, 58, 61, 60, 63, 60, 52]) \n",
    "# Add intercept term to X \n",
    "X = np.c_[np.ones(X.shape[0]), X] \n",
    "# Fit the model using Gradient Descent \n",
    "weights = gradient_descent(X, y) \n",
    "# Print the coefficients \n",
    "print(\"Coefficients:\", weights) "
   ]
  },
  {
   "cell_type": "code",
   "execution_count": 1,
   "id": "628f672b",
   "metadata": {},
   "outputs": [
    {
     "name": "stdout",
     "output_type": "stream",
     "text": [
      "Mean: 4.818181818181818\n",
      "Median: 5\n",
      "Mode: [7]\n"
     ]
    }
   ],
   "source": [
    "def mean(lst):\n",
    "    return sum(lst) / len(lst)\n",
    "\n",
    "def median(lst):\n",
    "    sorted_lst = sorted(lst)\n",
    "    n = len(lst)\n",
    "    if n % 2 == 0:\n",
    "        return (sorted_lst[n // 2 - 1] + sorted_lst[n // 2]) / 2\n",
    "    else:\n",
    "        return sorted_lst[n // 2]\n",
    "\n",
    "def mode(lst):\n",
    "    frequencies = {}\n",
    "    for item in lst:\n",
    "        frequencies[item] = frequencies.get(item, 0) + 1\n",
    "    max_frequency = max(frequencies.values())\n",
    "    modes = [item for item, frequency in frequencies.items() if frequency == max_frequency]\n",
    "    return modes\n",
    "\n",
    "# Example list\n",
    "my_list = [1, 2, 3, 4, 5, 5, 6, 6, 7, 7, 7]\n",
    "\n",
    "# Compute mean\n",
    "print(\"Mean:\", mean(my_list))\n",
    "\n",
    "# Compute median\n",
    "print(\"Median:\", median(my_list))\n",
    "\n",
    "# Compute mode\n",
    "print(\"Mode:\", mode(my_list))\n"
   ]
  },
  {
   "cell_type": "code",
   "execution_count": 2,
   "id": "3ea6c9b3",
   "metadata": {},
   "outputs": [
    {
     "name": "stdout",
     "output_type": "stream",
     "text": [
      "Variance: 2.0\n",
      "Standard Deviation: 1.4142135623730951\n"
     ]
    }
   ],
   "source": [
    "def mean(lst):\n",
    "    return sum(lst) / len(lst)\n",
    "\n",
    "def variance(lst):\n",
    "    mean_value = mean(lst)\n",
    "    squared_diff = [(x - mean_value) ** 2 for x in lst]\n",
    "    return sum(squared_diff) / len(lst)\n",
    "\n",
    "def standard_deviation(lst):\n",
    "    return variance(lst) ** 0.5\n",
    "\n",
    "# Example list\n",
    "my_list = [1, 2, 3, 4, 5]\n",
    "\n",
    "# Compute variance\n",
    "print(\"Variance:\", variance(my_list))\n",
    "\n",
    "# Compute standard deviation\n",
    "print(\"Standard Deviation:\", standard_deviation(my_list))\n"
   ]
  },
  {
   "cell_type": "code",
   "execution_count": 3,
   "id": "cf5e0169",
   "metadata": {},
   "outputs": [
    {
     "name": "stdout",
     "output_type": "stream",
     "text": [
      "Covariance: -2.0\n",
      "Correlation: -0.9999999999999998\n"
     ]
    }
   ],
   "source": [
    "def mean(lst):\n",
    "    return sum(lst) / len(lst)\n",
    "\n",
    "def covariance(lst1, lst2):\n",
    "    mean1 = mean(lst1)\n",
    "    mean2 = mean(lst2)\n",
    "    n = len(lst1)\n",
    "    return sum((x - mean1) * (y - mean2) for x, y in zip(lst1, lst2)) / n\n",
    "\n",
    "def correlation(lst1, lst2):\n",
    "    cov = covariance(lst1, lst2)\n",
    "    std_dev1 = (variance(lst1)) ** 0.5\n",
    "    std_dev2 = (variance(lst2)) ** 0.5\n",
    "    return cov / (std_dev1 * std_dev2)\n",
    "\n",
    "# Function to compute variance\n",
    "def variance(lst):\n",
    "    mean_value = mean(lst)\n",
    "    squared_diff = [(x - mean_value) ** 2 for x in lst]\n",
    "    return sum(squared_diff) / len(lst)\n",
    "\n",
    "# Example lists\n",
    "list1 = [1, 2, 3, 4, 5]\n",
    "list2 = [5, 4, 3, 2, 1]\n",
    "\n",
    "# Compute covariance\n",
    "print(\"Covariance:\", covariance(list1, list2))\n",
    "\n",
    "# Compute correlation\n",
    "print(\"Correlation:\", correlation(list1, list2))\n"
   ]
  },
  {
   "cell_type": "code",
   "execution_count": 4,
   "id": "dd707da6",
   "metadata": {},
   "outputs": [
    {
     "name": "stdout",
     "output_type": "stream",
     "text": [
      "Enter the length of the vectors: 4\n",
      "Enter elements of vector 1 separated by space:\n",
      "1\n",
      "Enter elements of vector 2 separated by space:\n",
      "2\n",
      "Dot Product: 2.0\n",
      "Distance between vectors: 1.0\n",
      "Sum of vectors: [3.0]\n",
      "Normalized vector 1: [1.0]\n",
      "Normalized vector 2: [1.0]\n"
     ]
    }
   ],
   "source": [
    "import math\n",
    "\n",
    "# Function to take input vectors from the user\n",
    "def input_vectors():\n",
    "    n = int(input(\"Enter the length of the vectors: \"))\n",
    "    vector1 = []\n",
    "    vector2 = []\n",
    "    print(\"Enter elements of vector 1 separated by space:\")\n",
    "    vector1 = list(map(float, input().split()))\n",
    "    print(\"Enter elements of vector 2 separated by space:\")\n",
    "    vector2 = list(map(float, input().split()))\n",
    "    return vector1, vector2\n",
    "\n",
    "# Function to compute the dot product of two vectors\n",
    "def dot_product(vector1, vector2):\n",
    "    if len(vector1) != len(vector2):\n",
    "        return \"Error: Vectors must be of the same length\"\n",
    "    return sum(x * y for x, y in zip(vector1, vector2))\n",
    "\n",
    "# Function to compute the distance between two vectors\n",
    "def vector_distance(vector1, vector2):\n",
    "    if len(vector1) != len(vector2):\n",
    "        return \"Error: Vectors must be of the same length\"\n",
    "    squared_diff = [(x - y) ** 2 for x, y in zip(vector1, vector2)]\n",
    "    return math.sqrt(sum(squared_diff))\n",
    "\n",
    "# Function to compute the sum of two vectors\n",
    "def vector_sum(vector1, vector2):\n",
    "    if len(vector1) != len(vector2):\n",
    "        return \"Error: Vectors must be of the same length\"\n",
    "    return [x + y for x, y in zip(vector1, vector2)]\n",
    "\n",
    "# Function to normalize a vector\n",
    "def normalize_vector(vector):\n",
    "    norm = math.sqrt(sum(x ** 2 for x in vector))\n",
    "    return [x / norm for x in vector]\n",
    "\n",
    "# Main function\n",
    "def main():\n",
    "    vector1, vector2 = input_vectors()\n",
    "    \n",
    "    # Dot product\n",
    "    print(\"Dot Product:\", dot_product(vector1, vector2))\n",
    "    \n",
    "    # Distance between vectors\n",
    "    print(\"Distance between vectors:\", vector_distance(vector1, vector2))\n",
    "    \n",
    "    # Sum of vectors\n",
    "    print(\"Sum of vectors:\", vector_sum(vector1, vector2))\n",
    "    \n",
    "    # Normalize vector\n",
    "    normalized_vector1 = normalize_vector(vector1)\n",
    "    normalized_vector2 = normalize_vector(vector2)\n",
    "    print(\"Normalized vector 1:\", normalized_vector1)\n",
    "    print(\"Normalized vector 2:\", normalized_vector2)\n",
    "\n",
    "if __name__ == \"__main__\":\n",
    "    main()\n"
   ]
  },
  {
   "cell_type": "code",
   "execution_count": 9,
   "id": "4d47c36f",
   "metadata": {},
   "outputs": [
    {
     "name": "stdout",
     "output_type": "stream",
     "text": [
      "Enter elements for first matrix:\n",
      "Enter elements for a 2x2 matrix:\n",
      "1 2 3 4 \n",
      "Error: Number of columns must match the specified size.\n"
     ]
    }
   ],
   "source": [
    "# Function to take input for a matrix\n",
    "def input_matrix(rows, cols):\n",
    "    matrix = []\n",
    "    print(f\"Enter elements for a {rows}x{cols} matrix:\")\n",
    "    for i in range(rows):\n",
    "        row = list(map(float, input().split()))\n",
    "        if len(row) != cols:\n",
    "            print(\"Error: Number of columns must match the specified size.\")\n",
    "            return None\n",
    "        matrix.append(row)\n",
    "    return matrix\n",
    "\n",
    "# Function to add two matrices\n",
    "def add_matrices(matrix1, matrix2):\n",
    "    result = [[0, 0], [0, 0]]\n",
    "    for i in range(len(matrix1)):\n",
    "        for j in range(len(matrix1[0])):\n",
    "            result[i][j] = matrix1[i][j] + matrix2[i][j]\n",
    "    return result\n",
    "\n",
    "# Main function\n",
    "def main():\n",
    "    rows = 2\n",
    "    cols = 2\n",
    "    \n",
    "    print(\"Enter elements for first matrix:\")\n",
    "    matrix1 = input_matrix(rows, cols)\n",
    "    if matrix1 is None:\n",
    "        return\n",
    "    \n",
    "    print(\"Enter elements for second matrix:\")\n",
    "    matrix2 = input_matrix(rows, cols)\n",
    "    if matrix2 is None:\n",
    "        return\n",
    "    \n",
    "    # Add matrices\n",
    "    result = add_matrices(matrix1, matrix2)\n",
    "    print(\"Sum of the two matrices:\")\n",
    "    for row in result:\n",
    "        print(row)\n",
    "\n",
    "if __name__ == \"__main__\":\n",
    "    main()\n"
   ]
  },
  {
   "cell_type": "code",
   "execution_count": null,
   "id": "4e9addd1",
   "metadata": {},
   "outputs": [],
   "source": []
  },
  {
   "cell_type": "code",
   "execution_count": null,
   "id": "d3363a13",
   "metadata": {},
   "outputs": [],
   "source": []
  }
 ],
 "metadata": {
  "kernelspec": {
   "display_name": "Python 3 (ipykernel)",
   "language": "python",
   "name": "python3"
  },
  "language_info": {
   "codemirror_mode": {
    "name": "ipython",
    "version": 3
   },
   "file_extension": ".py",
   "mimetype": "text/x-python",
   "name": "python",
   "nbconvert_exporter": "python",
   "pygments_lexer": "ipython3",
   "version": "3.11.5"
  }
 },
 "nbformat": 4,
 "nbformat_minor": 5
}
